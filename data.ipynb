{
 "cells": [
  {
   "cell_type": "code",
   "execution_count": null,
   "id": "faf3f935",
   "metadata": {
    "vscode": {
     "languageId": "plaintext"
    }
   },
   "outputs": [],
   "source": [
    "import mysql.connector\n",
    "\n",
    "# Connect to the database\n",
    "connection = mysql.connector.connect(\n",
    "    host='apptst.virtualanalytics.co.ke',\n",
    "    user='apptstv',\n",
    "    password='hbcc@2025',\n",
    "    database='natureapp_db',\n",
    "    port=3306\n",
    ")\n",
    "\n",
    "# Create a cursor\n",
    "cursor = connection.cursor()\n",
    "\n",
    "# Example query (customize this as needed)\n",
    "query = \"SELECT * FROM your_table_name LIMIT 10;\"  # Replace 'your_table_name' with an actual table name\n",
    "\n",
    "# Execute query\n",
    "cursor.execute(query)\n",
    "\n",
    "# Fetch results\n",
    "results = cursor.fetchall()\n",
    "for row in results:\n",
    "    print(row)\n",
    "\n",
    "# Close connection\n",
    "cursor.close()\n",
    "connection.close()\n"
   ]
  }
 ],
 "metadata": {
  "language_info": {
   "name": "python"
  }
 },
 "nbformat": 4,
 "nbformat_minor": 5
}
